{
 "cells": [
  {
   "cell_type": "markdown",
   "metadata": {},
   "source": [
    "### Note\n",
    "* Instructions have been included for each segment. You do not have to follow them exactly, but they are included to help you think through the steps."
   ]
  },
  {
   "cell_type": "code",
   "execution_count": 1,
   "metadata": {},
   "outputs": [
    {
     "data": {
      "text/html": [
       "<div>\n",
       "<style scoped>\n",
       "    .dataframe tbody tr th:only-of-type {\n",
       "        vertical-align: middle;\n",
       "    }\n",
       "\n",
       "    .dataframe tbody tr th {\n",
       "        vertical-align: top;\n",
       "    }\n",
       "\n",
       "    .dataframe thead th {\n",
       "        text-align: right;\n",
       "    }\n",
       "</style>\n",
       "<table border=\"1\" class=\"dataframe\">\n",
       "  <thead>\n",
       "    <tr style=\"text-align: right;\">\n",
       "      <th></th>\n",
       "      <th>Purchase ID</th>\n",
       "      <th>SN</th>\n",
       "      <th>Age</th>\n",
       "      <th>Gender</th>\n",
       "      <th>Item ID</th>\n",
       "      <th>Item Name</th>\n",
       "      <th>Price</th>\n",
       "    </tr>\n",
       "  </thead>\n",
       "  <tbody>\n",
       "    <tr>\n",
       "      <td>0</td>\n",
       "      <td>0</td>\n",
       "      <td>Lisim78</td>\n",
       "      <td>20</td>\n",
       "      <td>Male</td>\n",
       "      <td>108</td>\n",
       "      <td>Extraction, Quickblade Of Trembling Hands</td>\n",
       "      <td>3.53</td>\n",
       "    </tr>\n",
       "    <tr>\n",
       "      <td>1</td>\n",
       "      <td>1</td>\n",
       "      <td>Lisovynya38</td>\n",
       "      <td>40</td>\n",
       "      <td>Male</td>\n",
       "      <td>143</td>\n",
       "      <td>Frenzied Scimitar</td>\n",
       "      <td>1.56</td>\n",
       "    </tr>\n",
       "    <tr>\n",
       "      <td>2</td>\n",
       "      <td>2</td>\n",
       "      <td>Ithergue48</td>\n",
       "      <td>24</td>\n",
       "      <td>Male</td>\n",
       "      <td>92</td>\n",
       "      <td>Final Critic</td>\n",
       "      <td>4.88</td>\n",
       "    </tr>\n",
       "    <tr>\n",
       "      <td>3</td>\n",
       "      <td>3</td>\n",
       "      <td>Chamassasya86</td>\n",
       "      <td>24</td>\n",
       "      <td>Male</td>\n",
       "      <td>100</td>\n",
       "      <td>Blindscythe</td>\n",
       "      <td>3.27</td>\n",
       "    </tr>\n",
       "    <tr>\n",
       "      <td>4</td>\n",
       "      <td>4</td>\n",
       "      <td>Iskosia90</td>\n",
       "      <td>23</td>\n",
       "      <td>Male</td>\n",
       "      <td>131</td>\n",
       "      <td>Fury</td>\n",
       "      <td>1.44</td>\n",
       "    </tr>\n",
       "  </tbody>\n",
       "</table>\n",
       "</div>"
      ],
      "text/plain": [
       "   Purchase ID             SN  Age Gender  Item ID  \\\n",
       "0            0        Lisim78   20   Male      108   \n",
       "1            1    Lisovynya38   40   Male      143   \n",
       "2            2     Ithergue48   24   Male       92   \n",
       "3            3  Chamassasya86   24   Male      100   \n",
       "4            4      Iskosia90   23   Male      131   \n",
       "\n",
       "                                   Item Name  Price  \n",
       "0  Extraction, Quickblade Of Trembling Hands   3.53  \n",
       "1                          Frenzied Scimitar   1.56  \n",
       "2                               Final Critic   4.88  \n",
       "3                                Blindscythe   3.27  \n",
       "4                                       Fury   1.44  "
      ]
     },
     "execution_count": 1,
     "metadata": {},
     "output_type": "execute_result"
    }
   ],
   "source": [
    "# Dependencies and Setup\n",
    "import pandas as pd\n",
    "\n",
    "# File to Load (Remember to Change These)\n",
    "file_to_load = \"Resources/purchase_data.csv\"\n",
    "\n",
    "# Read Purchasing File and store into Pandas data frame\n",
    "purchase_data = pd.read_csv(file_to_load)\n",
    "purchase_data.head()"
   ]
  },
  {
   "cell_type": "markdown",
   "metadata": {},
   "source": [
    "## Player Count"
   ]
  },
  {
   "cell_type": "markdown",
   "metadata": {},
   "source": [
    "* Display the total number of players\n"
   ]
  },
  {
   "cell_type": "code",
   "execution_count": 2,
   "metadata": {},
   "outputs": [
    {
     "data": {
      "text/plain": [
       "576"
      ]
     },
     "execution_count": 2,
     "metadata": {},
     "output_type": "execute_result"
    }
   ],
   "source": [
    "#get player count using len\n",
    "playercount = len(purchase_data[\"SN\"].unique())\n",
    "playercount"
   ]
  },
  {
   "cell_type": "code",
   "execution_count": 3,
   "metadata": {},
   "outputs": [
    {
     "data": {
      "text/html": [
       "<div>\n",
       "<style scoped>\n",
       "    .dataframe tbody tr th:only-of-type {\n",
       "        vertical-align: middle;\n",
       "    }\n",
       "\n",
       "    .dataframe tbody tr th {\n",
       "        vertical-align: top;\n",
       "    }\n",
       "\n",
       "    .dataframe thead th {\n",
       "        text-align: right;\n",
       "    }\n",
       "</style>\n",
       "<table border=\"1\" class=\"dataframe\">\n",
       "  <thead>\n",
       "    <tr style=\"text-align: right;\">\n",
       "      <th></th>\n",
       "      <th>Total Players</th>\n",
       "    </tr>\n",
       "  </thead>\n",
       "  <tbody>\n",
       "    <tr>\n",
       "      <td>0</td>\n",
       "      <td>576</td>\n",
       "    </tr>\n",
       "  </tbody>\n",
       "</table>\n",
       "</div>"
      ],
      "text/plain": [
       "   Total Players\n",
       "0            576"
      ]
     },
     "execution_count": 3,
     "metadata": {},
     "output_type": "execute_result"
    }
   ],
   "source": [
    "#Summary table displaying player counts\n",
    "totalplayers_ST = pd.DataFrame({\"Total Players\": [playercount]})\n",
    "totalplayers_ST"
   ]
  },
  {
   "cell_type": "markdown",
   "metadata": {},
   "source": [
    "## Purchasing Analysis (Total)"
   ]
  },
  {
   "cell_type": "markdown",
   "metadata": {},
   "source": [
    "* Run basic calculations to obtain number of unique items, average price, etc.\n",
    "\n",
    "\n",
    "* Create a summary data frame to hold the results\n",
    "\n",
    "\n",
    "* Optional: give the displayed data cleaner formatting\n",
    "\n",
    "\n",
    "* Display the summary data frame\n"
   ]
  },
  {
   "cell_type": "code",
   "execution_count": 4,
   "metadata": {
    "scrolled": true
   },
   "outputs": [
    {
     "data": {
      "text/html": [
       "<style  type=\"text/css\" >\n",
       "</style><table id=\"T_3bd71798_35b5_11ea_809f_acd564473cc0\" ><thead>    <tr>        <th class=\"blank level0\" ></th>        <th class=\"col_heading level0 col0\" >Total Unique Authors</th>        <th class=\"col_heading level0 col1\" >Average Price</th>        <th class=\"col_heading level0 col2\" >Number of Purchases</th>        <th class=\"col_heading level0 col3\" >Total Revenue</th>    </tr></thead><tbody>\n",
       "                <tr>\n",
       "                        <th id=\"T_3bd71798_35b5_11ea_809f_acd564473cc0level0_row0\" class=\"row_heading level0 row0\" >0</th>\n",
       "                        <td id=\"T_3bd71798_35b5_11ea_809f_acd564473cc0row0_col0\" class=\"data row0 col0\" >183</td>\n",
       "                        <td id=\"T_3bd71798_35b5_11ea_809f_acd564473cc0row0_col1\" class=\"data row0 col1\" >$3.05</td>\n",
       "                        <td id=\"T_3bd71798_35b5_11ea_809f_acd564473cc0row0_col2\" class=\"data row0 col2\" >780</td>\n",
       "                        <td id=\"T_3bd71798_35b5_11ea_809f_acd564473cc0row0_col3\" class=\"data row0 col3\" >$2379.77</td>\n",
       "            </tr>\n",
       "    </tbody></table>"
      ],
      "text/plain": [
       "<pandas.io.formats.style.Styler at 0x1ca5ab3fb88>"
      ]
     },
     "execution_count": 4,
     "metadata": {},
     "output_type": "execute_result"
    }
   ],
   "source": [
    "#Calculate the Total Unique Authors\n",
    "uniqueitem = len(purchase_data[\"Item ID\"].unique())\n",
    "#Calculate the average price\n",
    "avgprice = purchase_data[\"Price\"].mean()\n",
    "#Calculate the number of purchases\n",
    "numberpurchases = len(purchase_data[\"Item ID\"])\n",
    "#Calculate the total revenue\n",
    "totalrevenue = purchase_data[\"Price\"].sum()\n",
    "#Create a Summary Table (ST)\n",
    "purchasinganalysis_ST = pd.DataFrame({\"Total Unique Authors\": [uniqueitem],\n",
    "                                     \"Average Price\": [avgprice],\n",
    "                                     \"Number of Purchases\": [numberpurchases],\n",
    "                                     \"Total Revenue\": [totalrevenue]})\n",
    "#Format the Summary Table\n",
    "(purchasinganalysis_ST.style.format({\"Average Price\": \"${:.2f}\",\n",
    "                                    \"Total Revenue\":\"${:.2f}\"}))"
   ]
  },
  {
   "cell_type": "markdown",
   "metadata": {},
   "source": [
    "## Gender Demographics"
   ]
  },
  {
   "cell_type": "markdown",
   "metadata": {},
   "source": [
    "* Percentage and Count of Male Players\n",
    "\n",
    "\n",
    "* Percentage and Count of Female Players\n",
    "\n",
    "\n",
    "* Percentage and Count of Other / Non-Disclosed\n",
    "\n",
    "\n"
   ]
  },
  {
   "cell_type": "code",
   "execution_count": 5,
   "metadata": {
    "scrolled": true
   },
   "outputs": [
    {
     "data": {
      "text/plain": [
       "Male                     652\n",
       "Female                   113\n",
       "Other / Non-Disclosed     15\n",
       "Name: Gender, dtype: int64"
      ]
     },
     "execution_count": 5,
     "metadata": {},
     "output_type": "execute_result"
    }
   ],
   "source": [
    "#Quick Check of Gender value counts\n",
    "nonUniquecounts = purchase_data['Gender'].value_counts()\n",
    "nonUniquecounts.head()"
   ]
  },
  {
   "cell_type": "code",
   "execution_count": 6,
   "metadata": {},
   "outputs": [
    {
     "data": {
      "text/html": [
       "<div>\n",
       "<style scoped>\n",
       "    .dataframe tbody tr th:only-of-type {\n",
       "        vertical-align: middle;\n",
       "    }\n",
       "\n",
       "    .dataframe tbody tr th {\n",
       "        vertical-align: top;\n",
       "    }\n",
       "\n",
       "    .dataframe thead th {\n",
       "        text-align: right;\n",
       "    }\n",
       "</style>\n",
       "<table border=\"1\" class=\"dataframe\">\n",
       "  <thead>\n",
       "    <tr style=\"text-align: right;\">\n",
       "      <th></th>\n",
       "      <th>Total Count</th>\n",
       "      <th>Percentage of Players</th>\n",
       "    </tr>\n",
       "    <tr>\n",
       "      <th>Gender</th>\n",
       "      <th></th>\n",
       "      <th></th>\n",
       "    </tr>\n",
       "  </thead>\n",
       "  <tbody>\n",
       "    <tr>\n",
       "      <td>Male</td>\n",
       "      <td>484</td>\n",
       "      <td>84.03%</td>\n",
       "    </tr>\n",
       "    <tr>\n",
       "      <td>Female</td>\n",
       "      <td>81</td>\n",
       "      <td>14.06%</td>\n",
       "    </tr>\n",
       "    <tr>\n",
       "      <td>Other / Non-Disclosed</td>\n",
       "      <td>11</td>\n",
       "      <td>1.91%</td>\n",
       "    </tr>\n",
       "  </tbody>\n",
       "</table>\n",
       "</div>"
      ],
      "text/plain": [
       "                       Total Count Percentage of Players\n",
       "Gender                                                  \n",
       "Male                           484                84.03%\n",
       "Female                          81                14.06%\n",
       "Other / Non-Disclosed           11                 1.91%"
      ]
     },
     "execution_count": 6,
     "metadata": {},
     "output_type": "execute_result"
    }
   ],
   "source": [
    "#SN (players) seems to have duplicate data\n",
    "#remove duplicate on the 'SN' column & create a data frame\n",
    "purchase_data_unique = purchase_data.drop_duplicates('SN')\n",
    "#Calculate the 'Total Count'\n",
    "gender_counts_unique = purchase_data_unique['Gender'].value_counts().values\n",
    "#Calculate the percentage\n",
    "gender_percents_unique = purchase_data_unique['Gender'].value_counts(normalize=True).values\n",
    "gender_percents_unique = gender_percents_unique*100\n",
    "#Create 'Gender' as an index\n",
    "gender_index = purchase_data_unique['Gender'].value_counts().index\n",
    "#Create a Summary Table (ST)\n",
    "gender_data = pd.DataFrame({'Gender': gender_index,\n",
    "                            'Total Count': gender_counts_unique, \n",
    "                            'Percentage of Players': gender_percents_unique})\n",
    "#Set 'Gender' as index \n",
    "gender_data = gender_data.set_index('Gender')\n",
    "#Format the Summary Table\n",
    "gender_data['Percentage of Players'] = gender_data['Percentage of Players'].map(\"{:.2f}%\".format)\n",
    "#Print Summary Table\n",
    "gender_data.head()"
   ]
  },
  {
   "cell_type": "markdown",
   "metadata": {},
   "source": [
    "\n",
    "## Purchasing Analysis (Gender)"
   ]
  },
  {
   "cell_type": "markdown",
   "metadata": {},
   "source": [
    "* Run basic calculations to obtain purchase count, avg. purchase price, avg. purchase total per person etc. by gender\n",
    "\n",
    "\n",
    "\n",
    "\n",
    "* Create a summary data frame to hold the results\n",
    "\n",
    "\n",
    "* Optional: give the displayed data cleaner formatting\n",
    "\n",
    "\n",
    "* Display the summary data frame"
   ]
  },
  {
   "cell_type": "code",
   "execution_count": 7,
   "metadata": {},
   "outputs": [
    {
     "data": {
      "text/html": [
       "<div>\n",
       "<style scoped>\n",
       "    .dataframe tbody tr th:only-of-type {\n",
       "        vertical-align: middle;\n",
       "    }\n",
       "\n",
       "    .dataframe tbody tr th {\n",
       "        vertical-align: top;\n",
       "    }\n",
       "\n",
       "    .dataframe thead th {\n",
       "        text-align: right;\n",
       "    }\n",
       "</style>\n",
       "<table border=\"1\" class=\"dataframe\">\n",
       "  <thead>\n",
       "    <tr style=\"text-align: right;\">\n",
       "      <th></th>\n",
       "      <th>Purchase count</th>\n",
       "      <th>Avg Purchase Price</th>\n",
       "      <th>Total Purchase value</th>\n",
       "      <th>Avg Total Purchase per Person</th>\n",
       "    </tr>\n",
       "    <tr>\n",
       "      <th>Gender</th>\n",
       "      <th></th>\n",
       "      <th></th>\n",
       "      <th></th>\n",
       "      <th></th>\n",
       "    </tr>\n",
       "  </thead>\n",
       "  <tbody>\n",
       "    <tr>\n",
       "      <td>Female</td>\n",
       "      <td>113</td>\n",
       "      <td>$3.20</td>\n",
       "      <td>$361.94</td>\n",
       "      <td>$4.47</td>\n",
       "    </tr>\n",
       "    <tr>\n",
       "      <td>Male</td>\n",
       "      <td>652</td>\n",
       "      <td>$3.02</td>\n",
       "      <td>$1967.64</td>\n",
       "      <td>$4.07</td>\n",
       "    </tr>\n",
       "    <tr>\n",
       "      <td>Other / Non-Disclosed</td>\n",
       "      <td>15</td>\n",
       "      <td>$3.35</td>\n",
       "      <td>$50.19</td>\n",
       "      <td>$4.56</td>\n",
       "    </tr>\n",
       "  </tbody>\n",
       "</table>\n",
       "</div>"
      ],
      "text/plain": [
       "                       Purchase count Avg Purchase Price Total Purchase value  \\\n",
       "Gender                                                                          \n",
       "Female                            113              $3.20              $361.94   \n",
       "Male                              652              $3.02             $1967.64   \n",
       "Other / Non-Disclosed              15              $3.35               $50.19   \n",
       "\n",
       "                      Avg Total Purchase per Person  \n",
       "Gender                                               \n",
       "Female                                        $4.47  \n",
       "Male                                          $4.07  \n",
       "Other / Non-Disclosed                         $4.56  "
      ]
     },
     "execution_count": 7,
     "metadata": {},
     "output_type": "execute_result"
    }
   ],
   "source": [
    "#Assign groups\n",
    "assignee_group = purchase_data.groupby('Gender')\n",
    "assigene_group2= purchase_data_unique.groupby('Gender')\n",
    "#Calculate non-unique purchase counts for players since they could have purchased products several times\n",
    "nonUniquecounts = assignee_group['SN'].count()\n",
    "##.nunique() to count unique values\n",
    "#Calculate unique purchase counts by player\n",
    "Uniquecounts = assigene_group2['SN'].count()\n",
    "#Calculate the average purchase price\n",
    "avg_purchase_price = assignee_group['Price'].mean()\n",
    "#Calculate the total purchase price\n",
    "total_purchase_price = assignee_group['Price'].sum()\n",
    "#Calculate the average total purchase price per person(uniquecounts on 'SN')\n",
    "avg_total_purchase_price = (total_purchase_price/Uniquecounts)\n",
    "\n",
    "#Generate a summary table\n",
    "purchase_anal_gen = pd.DataFrame({'Purchase count':nonUniquecounts,\n",
    "                                 'Avg Purchase Price':avg_purchase_price,\n",
    "                                 'Total Purchase value':total_purchase_price,\n",
    "                                 'Avg Total Purchase per Person':avg_total_purchase_price})\n",
    "#Format the summary table\n",
    "purchase_anal_gen['Avg Purchase Price'] = purchase_anal_gen['Avg Purchase Price'].map(\"${:.2f}\".format)\n",
    "purchase_anal_gen['Total Purchase value'] = purchase_anal_gen['Total Purchase value'].map(\"${:.2f}\".format)\n",
    "purchase_anal_gen['Avg Total Purchase per Person'] = purchase_anal_gen['Avg Total Purchase per Person'].map(\"${:.2f}\".format)\n",
    "\n",
    "purchase_anal_gen.head()"
   ]
  },
  {
   "cell_type": "markdown",
   "metadata": {},
   "source": [
    "## Age Demographics"
   ]
  },
  {
   "cell_type": "markdown",
   "metadata": {},
   "source": [
    "* Establish bins for ages\n",
    "\n",
    "\n",
    "* Categorize the existing players using the age bins. Hint: use pd.cut()\n",
    "\n",
    "\n",
    "* Calculate the numbers and percentages by age group\n",
    "\n",
    "\n",
    "* Create a summary data frame to hold the results\n",
    "\n",
    "\n",
    "* Optional: round the percentage column to two decimal points\n",
    "\n",
    "\n",
    "* Display Age Demographics Table\n"
   ]
  },
  {
   "cell_type": "code",
   "execution_count": 8,
   "metadata": {},
   "outputs": [
    {
     "name": "stdout",
     "output_type": "stream",
     "text": [
      "The max value is 45 and the min value for age is 7\n"
     ]
    }
   ],
   "source": [
    "#Determine max and min value to create the bins\n",
    "max_age =purchase_data_unique['Age'].max()\n",
    "min_age =purchase_data_unique['Age'].min()\n",
    "print(f'The max value is {max_age} and the min value for age is {min_age}')"
   ]
  },
  {
   "cell_type": "code",
   "execution_count": 9,
   "metadata": {},
   "outputs": [],
   "source": [
    "#Create bins and labels\n",
    "bins=[0,9,14,19,24,29,34,39,50]\n",
    "group_names=[\"<10\",\"10-14\",\"15-19\",\"20-24\",\n",
    "             \"25-29\", \"30-34\", \"35-39\",\">40\"]\n"
   ]
  },
  {
   "cell_type": "code",
   "execution_count": 10,
   "metadata": {},
   "outputs": [
    {
     "data": {
      "text/plain": [
       "0    20-24\n",
       "1      >40\n",
       "2    20-24\n",
       "3    20-24\n",
       "4    20-24\n",
       "Name: Age, dtype: category\n",
       "Categories (8, object): [<10 < 10-14 < 15-19 < 20-24 < 25-29 < 30-34 < 35-39 < >40]"
      ]
     },
     "execution_count": 10,
     "metadata": {},
     "output_type": "execute_result"
    }
   ],
   "source": [
    "#Slice the data and place it into bins\n",
    "pd.cut(purchase_data_unique[\"Age\"],bins, labels=group_names).head()"
   ]
  },
  {
   "cell_type": "code",
   "execution_count": 11,
   "metadata": {},
   "outputs": [
    {
     "name": "stderr",
     "output_type": "stream",
     "text": [
      "C:\\Users\\dcmed\\anaconda\\Anaconda3\\lib\\site-packages\\ipykernel_launcher.py:2: SettingWithCopyWarning: \n",
      "A value is trying to be set on a copy of a slice from a DataFrame.\n",
      "Try using .loc[row_indexer,col_indexer] = value instead\n",
      "\n",
      "See the caveats in the documentation: http://pandas.pydata.org/pandas-docs/stable/user_guide/indexing.html#returning-a-view-versus-a-copy\n",
      "  \n"
     ]
    }
   ],
   "source": [
    "#place the data series into a new column inside the df\n",
    "purchase_data_unique[\"Group Names\"]=pd.cut(purchase_data[\"Age\"],bins, labels=group_names)"
   ]
  },
  {
   "cell_type": "code",
   "execution_count": 12,
   "metadata": {},
   "outputs": [
    {
     "data": {
      "text/html": [
       "<div>\n",
       "<style scoped>\n",
       "    .dataframe tbody tr th:only-of-type {\n",
       "        vertical-align: middle;\n",
       "    }\n",
       "\n",
       "    .dataframe tbody tr th {\n",
       "        vertical-align: top;\n",
       "    }\n",
       "\n",
       "    .dataframe thead th {\n",
       "        text-align: right;\n",
       "    }\n",
       "</style>\n",
       "<table border=\"1\" class=\"dataframe\">\n",
       "  <thead>\n",
       "    <tr style=\"text-align: right;\">\n",
       "      <th></th>\n",
       "      <th>Age</th>\n",
       "      <th>Percentage</th>\n",
       "    </tr>\n",
       "    <tr>\n",
       "      <th>Group Names</th>\n",
       "      <th></th>\n",
       "      <th></th>\n",
       "    </tr>\n",
       "  </thead>\n",
       "  <tbody>\n",
       "    <tr>\n",
       "      <td>&lt;10</td>\n",
       "      <td>17</td>\n",
       "      <td>2.95%</td>\n",
       "    </tr>\n",
       "    <tr>\n",
       "      <td>10-14</td>\n",
       "      <td>22</td>\n",
       "      <td>3.82%</td>\n",
       "    </tr>\n",
       "    <tr>\n",
       "      <td>15-19</td>\n",
       "      <td>107</td>\n",
       "      <td>18.58%</td>\n",
       "    </tr>\n",
       "    <tr>\n",
       "      <td>20-24</td>\n",
       "      <td>258</td>\n",
       "      <td>44.79%</td>\n",
       "    </tr>\n",
       "    <tr>\n",
       "      <td>25-29</td>\n",
       "      <td>77</td>\n",
       "      <td>13.37%</td>\n",
       "    </tr>\n",
       "    <tr>\n",
       "      <td>30-34</td>\n",
       "      <td>52</td>\n",
       "      <td>9.03%</td>\n",
       "    </tr>\n",
       "    <tr>\n",
       "      <td>35-39</td>\n",
       "      <td>31</td>\n",
       "      <td>5.38%</td>\n",
       "    </tr>\n",
       "    <tr>\n",
       "      <td>&gt;40</td>\n",
       "      <td>12</td>\n",
       "      <td>2.08%</td>\n",
       "    </tr>\n",
       "  </tbody>\n",
       "</table>\n",
       "</div>"
      ],
      "text/plain": [
       "             Age Percentage\n",
       "Group Names                \n",
       "<10           17      2.95%\n",
       "10-14         22      3.82%\n",
       "15-19        107     18.58%\n",
       "20-24        258     44.79%\n",
       "25-29         77     13.37%\n",
       "30-34         52      9.03%\n",
       "35-39         31      5.38%\n",
       ">40           12      2.08%"
      ]
     },
     "execution_count": 12,
     "metadata": {},
     "output_type": "execute_result"
    }
   ],
   "source": [
    "assignee_group = purchase_data_unique.groupby('Group Names')\n",
    "\n",
    "# #Calculate the total count by 'Age'\n",
    "total_count=assignee_group['Age'].count()\n",
    "df = pd.DataFrame(total_count)\n",
    "\n",
    "df['Percentage']=((total_count/sum(total_count))*100).map(\"{:.2f}%\".format)\n",
    "df\n"
   ]
  },
  {
   "cell_type": "code",
   "execution_count": 13,
   "metadata": {},
   "outputs": [],
   "source": [
    "#Another way of tablulating the data"
   ]
  },
  {
   "cell_type": "code",
   "execution_count": 14,
   "metadata": {},
   "outputs": [
    {
     "data": {
      "text/html": [
       "<div>\n",
       "<style scoped>\n",
       "    .dataframe tbody tr th:only-of-type {\n",
       "        vertical-align: middle;\n",
       "    }\n",
       "\n",
       "    .dataframe tbody tr th {\n",
       "        vertical-align: top;\n",
       "    }\n",
       "\n",
       "    .dataframe thead th {\n",
       "        text-align: right;\n",
       "    }\n",
       "</style>\n",
       "<table border=\"1\" class=\"dataframe\">\n",
       "  <thead>\n",
       "    <tr style=\"text-align: right;\">\n",
       "      <th></th>\n",
       "      <th>Total Count</th>\n",
       "      <th>Percentage of Players</th>\n",
       "    </tr>\n",
       "    <tr>\n",
       "      <th>Group Names</th>\n",
       "      <th></th>\n",
       "      <th></th>\n",
       "    </tr>\n",
       "  </thead>\n",
       "  <tbody>\n",
       "    <tr>\n",
       "      <td>&lt;10</td>\n",
       "      <td>17</td>\n",
       "      <td>2.95%</td>\n",
       "    </tr>\n",
       "    <tr>\n",
       "      <td>10-14</td>\n",
       "      <td>22</td>\n",
       "      <td>3.82%</td>\n",
       "    </tr>\n",
       "    <tr>\n",
       "      <td>15-19</td>\n",
       "      <td>107</td>\n",
       "      <td>18.58%</td>\n",
       "    </tr>\n",
       "    <tr>\n",
       "      <td>20-24</td>\n",
       "      <td>258</td>\n",
       "      <td>44.79%</td>\n",
       "    </tr>\n",
       "    <tr>\n",
       "      <td>25-29</td>\n",
       "      <td>77</td>\n",
       "      <td>13.37%</td>\n",
       "    </tr>\n",
       "    <tr>\n",
       "      <td>30-34</td>\n",
       "      <td>52</td>\n",
       "      <td>9.03%</td>\n",
       "    </tr>\n",
       "    <tr>\n",
       "      <td>35-39</td>\n",
       "      <td>31</td>\n",
       "      <td>5.38%</td>\n",
       "    </tr>\n",
       "    <tr>\n",
       "      <td>&gt;40</td>\n",
       "      <td>12</td>\n",
       "      <td>2.08%</td>\n",
       "    </tr>\n",
       "  </tbody>\n",
       "</table>\n",
       "</div>"
      ],
      "text/plain": [
       "             Total Count Percentage of Players\n",
       "Group Names                                   \n",
       "<10                   17                 2.95%\n",
       "10-14                 22                 3.82%\n",
       "15-19                107                18.58%\n",
       "20-24                258                44.79%\n",
       "25-29                 77                13.37%\n",
       "30-34                 52                 9.03%\n",
       "35-39                 31                 5.38%\n",
       ">40                   12                 2.08%"
      ]
     },
     "execution_count": 14,
     "metadata": {},
     "output_type": "execute_result"
    }
   ],
   "source": [
    "assignee_group = purchase_data_unique.groupby('Group Names')\n",
    "#Calculate the total count by 'Age'\n",
    "total_count=assignee_group['Age'].count()\n",
    "#Calculate the percentage\n",
    "sum_count=total_count.sum()\n",
    "percentage=(total_count/sum_count)*100\n",
    "percentage\n",
    "df_summary = pd.merge(total_count, percentage, on = 'Group Names')\n",
    "\n",
    "df_summary=df_summary.rename(columns={\"Age_x\": \"Total Count\", \n",
    "                           \"Age_y\": \"Percentage of Players\"})\n",
    "\n",
    "df_summary['Percentage of Players'] = df_summary['Percentage of Players'].map(\"{:.2f}%\".format)\n",
    "df_summary"
   ]
  },
  {
   "cell_type": "markdown",
   "metadata": {},
   "source": [
    "## Purchasing Analysis (Age)"
   ]
  },
  {
   "cell_type": "markdown",
   "metadata": {},
   "source": [
    "* Bin the purchase_data data frame by age\n",
    "\n",
    "\n",
    "* Run basic calculations to obtain purchase count, avg. purchase price, avg. purchase total per person etc. in the table below\n",
    "\n",
    "\n",
    "* Create a summary data frame to hold the results\n",
    "\n",
    "\n",
    "* Optional: give the displayed data cleaner formatting\n",
    "\n",
    "\n",
    "* Display the summary data frame"
   ]
  },
  {
   "cell_type": "code",
   "execution_count": 15,
   "metadata": {},
   "outputs": [],
   "source": [
    "#Create bins and labels\n",
    "bins=[0,9,14,19,24,29,34,39,50]\n",
    "group_names=[\"<10\",\"10-14\",\"15-19\",\"20-24\",\n",
    "             \"25-29\", \"30-34\", \"35-39\",\">40\"]"
   ]
  },
  {
   "cell_type": "code",
   "execution_count": 16,
   "metadata": {},
   "outputs": [
    {
     "data": {
      "text/html": [
       "<div>\n",
       "<style scoped>\n",
       "    .dataframe tbody tr th:only-of-type {\n",
       "        vertical-align: middle;\n",
       "    }\n",
       "\n",
       "    .dataframe tbody tr th {\n",
       "        vertical-align: top;\n",
       "    }\n",
       "\n",
       "    .dataframe thead th {\n",
       "        text-align: right;\n",
       "    }\n",
       "</style>\n",
       "<table border=\"1\" class=\"dataframe\">\n",
       "  <thead>\n",
       "    <tr style=\"text-align: right;\">\n",
       "      <th></th>\n",
       "      <th>Puchase Count</th>\n",
       "      <th>Average Purchase Price</th>\n",
       "      <th>Total Purchase Value</th>\n",
       "      <th>Avg Total Purchase per Person</th>\n",
       "    </tr>\n",
       "    <tr>\n",
       "      <th>Group Names</th>\n",
       "      <th></th>\n",
       "      <th></th>\n",
       "      <th></th>\n",
       "      <th></th>\n",
       "    </tr>\n",
       "  </thead>\n",
       "  <tbody>\n",
       "    <tr>\n",
       "      <td>&lt;10</td>\n",
       "      <td>23</td>\n",
       "      <td>$3.35</td>\n",
       "      <td>$77.13</td>\n",
       "      <td>$4.54</td>\n",
       "    </tr>\n",
       "    <tr>\n",
       "      <td>10-14</td>\n",
       "      <td>28</td>\n",
       "      <td>$2.96</td>\n",
       "      <td>$82.78</td>\n",
       "      <td>$3.76</td>\n",
       "    </tr>\n",
       "    <tr>\n",
       "      <td>15-19</td>\n",
       "      <td>136</td>\n",
       "      <td>$3.04</td>\n",
       "      <td>$412.89</td>\n",
       "      <td>$3.86</td>\n",
       "    </tr>\n",
       "    <tr>\n",
       "      <td>20-24</td>\n",
       "      <td>365</td>\n",
       "      <td>$3.05</td>\n",
       "      <td>$1114.06</td>\n",
       "      <td>$4.32</td>\n",
       "    </tr>\n",
       "    <tr>\n",
       "      <td>25-29</td>\n",
       "      <td>101</td>\n",
       "      <td>$2.90</td>\n",
       "      <td>$293.00</td>\n",
       "      <td>$3.81</td>\n",
       "    </tr>\n",
       "    <tr>\n",
       "      <td>30-34</td>\n",
       "      <td>73</td>\n",
       "      <td>$2.93</td>\n",
       "      <td>$214.00</td>\n",
       "      <td>$4.12</td>\n",
       "    </tr>\n",
       "    <tr>\n",
       "      <td>35-39</td>\n",
       "      <td>41</td>\n",
       "      <td>$3.60</td>\n",
       "      <td>$147.67</td>\n",
       "      <td>$4.76</td>\n",
       "    </tr>\n",
       "    <tr>\n",
       "      <td>&gt;40</td>\n",
       "      <td>13</td>\n",
       "      <td>$2.94</td>\n",
       "      <td>$38.24</td>\n",
       "      <td>$3.19</td>\n",
       "    </tr>\n",
       "  </tbody>\n",
       "</table>\n",
       "</div>"
      ],
      "text/plain": [
       "             Puchase Count Average Purchase Price Total Purchase Value  \\\n",
       "Group Names                                                              \n",
       "<10                     23                  $3.35               $77.13   \n",
       "10-14                   28                  $2.96               $82.78   \n",
       "15-19                  136                  $3.04              $412.89   \n",
       "20-24                  365                  $3.05             $1114.06   \n",
       "25-29                  101                  $2.90              $293.00   \n",
       "30-34                   73                  $2.93              $214.00   \n",
       "35-39                   41                  $3.60              $147.67   \n",
       ">40                     13                  $2.94               $38.24   \n",
       "\n",
       "            Avg Total Purchase per Person  \n",
       "Group Names                                \n",
       "<10                                 $4.54  \n",
       "10-14                               $3.76  \n",
       "15-19                               $3.86  \n",
       "20-24                               $4.32  \n",
       "25-29                               $3.81  \n",
       "30-34                               $4.12  \n",
       "35-39                               $4.76  \n",
       ">40                                 $3.19  "
      ]
     },
     "execution_count": 16,
     "metadata": {},
     "output_type": "execute_result"
    }
   ],
   "source": [
    "#Slice the data and place it into bins\n",
    "pd.cut(purchase_data[\"Age\"],bins, labels=group_names).head()\n",
    "#place the data series into a new column inside the df\n",
    "purchase_data[\"Group Names\"]=pd.cut(purchase_data[\"Age\"],bins, labels=group_names)\n",
    "assignee_group = purchase_data.groupby('Group Names')\n",
    "#Calculate the 'Purchase Count'\n",
    "#purchase_count = assignee_group['Group Names'].value_counts().values\n",
    "purchase_count = assignee_group['Purchase ID'].count()\n",
    "#purchase_count\n",
    "purchase_mean = assignee_group['Price'].mean()\n",
    "totalpurchase_value=assignee_group['Price'].sum()\n",
    "##.nunique() to count unique values\n",
    "unique_counts_pp = assignee_group['SN'].nunique()\n",
    "avg_total_purchase_price_pp = (totalpurchase_value/unique_counts_pp)\n",
    "\n",
    "#generate a summary table\n",
    "purchase_analysis_agebin= pd.DataFrame({'Puchase Count':purchase_count,\n",
    "                                       'Average Purchase Price':purchase_mean,\n",
    "                                       'Total Purchase Value':totalpurchase_value,\n",
    "                                       'Avg Total Purchase per Person':avg_total_purchase_price_pp})\n",
    "#Format the summary table\n",
    "purchase_analysis_agebin['Average Purchase Price'] = purchase_analysis_agebin['Average Purchase Price'].map(\"${:.2f}\".format)\n",
    "purchase_analysis_agebin['Total Purchase Value'] = purchase_analysis_agebin['Total Purchase Value'].map(\"${:.2f}\".format)\n",
    "purchase_analysis_agebin['Avg Total Purchase per Person'] = purchase_analysis_agebin['Avg Total Purchase per Person'].map(\"${:.2f}\".format)\n",
    "purchase_analysis_agebin"
   ]
  },
  {
   "cell_type": "markdown",
   "metadata": {},
   "source": [
    "## Top Spenders"
   ]
  },
  {
   "cell_type": "markdown",
   "metadata": {},
   "source": [
    "* Run basic calculations to obtain the results in the table below\n",
    "\n",
    "\n",
    "* Create a summary data frame to hold the results\n",
    "\n",
    "\n",
    "* Sort the total purchase value column in descending order\n",
    "\n",
    "\n",
    "* Optional: give the displayed data cleaner formatting\n",
    "\n",
    "\n",
    "* Display a preview of the summary data frame\n",
    "\n"
   ]
  },
  {
   "cell_type": "code",
   "execution_count": 17,
   "metadata": {},
   "outputs": [
    {
     "data": {
      "text/html": [
       "<div>\n",
       "<style scoped>\n",
       "    .dataframe tbody tr th:only-of-type {\n",
       "        vertical-align: middle;\n",
       "    }\n",
       "\n",
       "    .dataframe tbody tr th {\n",
       "        vertical-align: top;\n",
       "    }\n",
       "\n",
       "    .dataframe thead th {\n",
       "        text-align: right;\n",
       "    }\n",
       "</style>\n",
       "<table border=\"1\" class=\"dataframe\">\n",
       "  <thead>\n",
       "    <tr style=\"text-align: right;\">\n",
       "      <th></th>\n",
       "      <th>Puchase Count</th>\n",
       "      <th>Average Purchase Price</th>\n",
       "      <th>Total Purchase Value</th>\n",
       "    </tr>\n",
       "    <tr>\n",
       "      <th>SN</th>\n",
       "      <th></th>\n",
       "      <th></th>\n",
       "      <th></th>\n",
       "    </tr>\n",
       "  </thead>\n",
       "  <tbody>\n",
       "    <tr>\n",
       "      <td>Lisosia93</td>\n",
       "      <td>5</td>\n",
       "      <td>$3.79</td>\n",
       "      <td>$18.96</td>\n",
       "    </tr>\n",
       "    <tr>\n",
       "      <td>Idastidru52</td>\n",
       "      <td>4</td>\n",
       "      <td>$3.86</td>\n",
       "      <td>$15.45</td>\n",
       "    </tr>\n",
       "    <tr>\n",
       "      <td>Chamjask73</td>\n",
       "      <td>3</td>\n",
       "      <td>$4.61</td>\n",
       "      <td>$13.83</td>\n",
       "    </tr>\n",
       "    <tr>\n",
       "      <td>Iral74</td>\n",
       "      <td>4</td>\n",
       "      <td>$3.40</td>\n",
       "      <td>$13.62</td>\n",
       "    </tr>\n",
       "    <tr>\n",
       "      <td>Iskadarya95</td>\n",
       "      <td>3</td>\n",
       "      <td>$4.37</td>\n",
       "      <td>$13.10</td>\n",
       "    </tr>\n",
       "  </tbody>\n",
       "</table>\n",
       "</div>"
      ],
      "text/plain": [
       "             Puchase Count Average Purchase Price Total Purchase Value\n",
       "SN                                                                    \n",
       "Lisosia93                5                  $3.79               $18.96\n",
       "Idastidru52              4                  $3.86               $15.45\n",
       "Chamjask73               3                  $4.61               $13.83\n",
       "Iral74                   4                  $3.40               $13.62\n",
       "Iskadarya95              3                  $4.37               $13.10"
      ]
     },
     "execution_count": 17,
     "metadata": {},
     "output_type": "execute_result"
    }
   ],
   "source": [
    "assignee_group = purchase_data.groupby('SN')\n",
    "#Calculate the 'Purchase Count'\n",
    "#purchase_count = assignee_group['Group Names'].value_counts().values\n",
    "purchase_count = assignee_group['Purchase ID'].count()\n",
    "#purchase_count\n",
    "purchase_mean = assignee_group['Price'].mean()\n",
    "totalpurchase_value=assignee_group['Price'].sum()\n",
    "#generate a summary table\n",
    "Top_Spenders= pd.DataFrame({'Puchase Count':purchase_count,\n",
    "                            'Average Purchase Price':purchase_mean,\n",
    "                            'Total Purchase Value':totalpurchase_value})\n",
    "\n",
    "\n",
    "Top_Spenders=Top_Spenders.sort_values(by=['Total Purchase Value'], ascending=False)\n",
    "\n",
    "#Format the summary table\n",
    "Top_Spenders['Average Purchase Price'] = Top_Spenders['Average Purchase Price'].map(\"${:.2f}\".format)\n",
    "Top_Spenders['Total Purchase Value'] = Top_Spenders['Total Purchase Value'].map(\"${:.2f}\".format)\n",
    "Top_Spenders.head(5)\n"
   ]
  },
  {
   "cell_type": "markdown",
   "metadata": {},
   "source": [
    "## Most Popular Items"
   ]
  },
  {
   "cell_type": "markdown",
   "metadata": {},
   "source": [
    "* Retrieve the Item ID, Item Name, and Item Price columns\n",
    "\n",
    "\n",
    "* Group by Item ID and Item Name. Perform calculations to obtain purchase count, item price, and total purchase value\n",
    "\n",
    "\n",
    "* Create a summary data frame to hold the results\n",
    "\n",
    "\n",
    "* Sort the purchase count column in descending order\n",
    "\n",
    "\n",
    "* Optional: give the displayed data cleaner formatting\n",
    "\n",
    "\n",
    "* Display a preview of the summary data frame\n",
    "\n"
   ]
  },
  {
   "cell_type": "code",
   "execution_count": 18,
   "metadata": {},
   "outputs": [
    {
     "data": {
      "text/html": [
       "<div>\n",
       "<style scoped>\n",
       "    .dataframe tbody tr th:only-of-type {\n",
       "        vertical-align: middle;\n",
       "    }\n",
       "\n",
       "    .dataframe tbody tr th {\n",
       "        vertical-align: top;\n",
       "    }\n",
       "\n",
       "    .dataframe thead th {\n",
       "        text-align: right;\n",
       "    }\n",
       "</style>\n",
       "<table border=\"1\" class=\"dataframe\">\n",
       "  <thead>\n",
       "    <tr style=\"text-align: right;\">\n",
       "      <th></th>\n",
       "      <th></th>\n",
       "      <th></th>\n",
       "      <th>Puchase Count</th>\n",
       "      <th>Total Purchase Value</th>\n",
       "    </tr>\n",
       "    <tr>\n",
       "      <th>Item ID</th>\n",
       "      <th>Item Name</th>\n",
       "      <th>Price</th>\n",
       "      <th></th>\n",
       "      <th></th>\n",
       "    </tr>\n",
       "  </thead>\n",
       "  <tbody>\n",
       "    <tr>\n",
       "      <td>178</td>\n",
       "      <td>Oathbreaker, Last Hope of the Breaking Storm</td>\n",
       "      <td>4.23</td>\n",
       "      <td>12</td>\n",
       "      <td>$50.76</td>\n",
       "    </tr>\n",
       "    <tr>\n",
       "      <td>145</td>\n",
       "      <td>Fiery Glass Crusader</td>\n",
       "      <td>4.58</td>\n",
       "      <td>9</td>\n",
       "      <td>$41.22</td>\n",
       "    </tr>\n",
       "    <tr>\n",
       "      <td>108</td>\n",
       "      <td>Extraction, Quickblade Of Trembling Hands</td>\n",
       "      <td>3.53</td>\n",
       "      <td>9</td>\n",
       "      <td>$31.77</td>\n",
       "    </tr>\n",
       "    <tr>\n",
       "      <td>82</td>\n",
       "      <td>Nirvana</td>\n",
       "      <td>4.90</td>\n",
       "      <td>9</td>\n",
       "      <td>$44.10</td>\n",
       "    </tr>\n",
       "    <tr>\n",
       "      <td>19</td>\n",
       "      <td>Pursuit, Cudgel of Necromancy</td>\n",
       "      <td>1.02</td>\n",
       "      <td>8</td>\n",
       "      <td>$8.16</td>\n",
       "    </tr>\n",
       "  </tbody>\n",
       "</table>\n",
       "</div>"
      ],
      "text/plain": [
       "                                                            Puchase Count  \\\n",
       "Item ID Item Name                                    Price                  \n",
       "178     Oathbreaker, Last Hope of the Breaking Storm 4.23              12   \n",
       "145     Fiery Glass Crusader                         4.58               9   \n",
       "108     Extraction, Quickblade Of Trembling Hands    3.53               9   \n",
       "82      Nirvana                                      4.90               9   \n",
       "19      Pursuit, Cudgel of Necromancy                1.02               8   \n",
       "\n",
       "                                                           Total Purchase Value  \n",
       "Item ID Item Name                                    Price                       \n",
       "178     Oathbreaker, Last Hope of the Breaking Storm 4.23                $50.76  \n",
       "145     Fiery Glass Crusader                         4.58                $41.22  \n",
       "108     Extraction, Quickblade Of Trembling Hands    3.53                $31.77  \n",
       "82      Nirvana                                      4.90                $44.10  \n",
       "19      Pursuit, Cudgel of Necromancy                1.02                 $8.16  "
      ]
     },
     "execution_count": 18,
     "metadata": {},
     "output_type": "execute_result"
    }
   ],
   "source": [
    "most_popular=purchase_data[[\"Item ID\", 'Item Name','Price','Purchase ID']]\n",
    "\n",
    "grouping = most_popular.groupby(['Item ID','Item Name','Price'])\n",
    "\n",
    "#Calculate the 'Purchase Count'\n",
    "purchase_count = grouping['Purchase ID'].count()\n",
    "\n",
    "#total purchase value\n",
    "totalpurchase_value=grouping['Price'].sum()\n",
    "\n",
    "#generate a summary table\n",
    "mp_st= pd.DataFrame({'Puchase Count':purchase_count,\n",
    "                    'Total Purchase Value':totalpurchase_value})\n",
    "\n",
    "#sorting by popularity (purchase count)\n",
    "mp_st=mp_st.sort_values(by=['Puchase Count'], ascending=False)\n",
    "\n",
    "#Format the summary table\n",
    "mp_st['Total Purchase Value'] = mp_st['Total Purchase Value'].map(\"${:.2f}\".format)\n",
    "mp_st.head(5)\n",
    "\n"
   ]
  },
  {
   "cell_type": "markdown",
   "metadata": {},
   "source": [
    "## Most Profitable Items"
   ]
  },
  {
   "cell_type": "markdown",
   "metadata": {},
   "source": [
    "* Sort the above table by total purchase value in descending order\n",
    "\n",
    "\n",
    "* Optional: give the displayed data cleaner formatting\n",
    "\n",
    "\n",
    "* Display a preview of the data frame\n",
    "\n"
   ]
  },
  {
   "cell_type": "code",
   "execution_count": 19,
   "metadata": {
    "scrolled": true
   },
   "outputs": [
    {
     "data": {
      "text/html": [
       "<div>\n",
       "<style scoped>\n",
       "    .dataframe tbody tr th:only-of-type {\n",
       "        vertical-align: middle;\n",
       "    }\n",
       "\n",
       "    .dataframe tbody tr th {\n",
       "        vertical-align: top;\n",
       "    }\n",
       "\n",
       "    .dataframe thead th {\n",
       "        text-align: right;\n",
       "    }\n",
       "</style>\n",
       "<table border=\"1\" class=\"dataframe\">\n",
       "  <thead>\n",
       "    <tr style=\"text-align: right;\">\n",
       "      <th></th>\n",
       "      <th></th>\n",
       "      <th></th>\n",
       "      <th>Puchase Count</th>\n",
       "      <th>Total Purchase Value</th>\n",
       "    </tr>\n",
       "    <tr>\n",
       "      <th>Item ID</th>\n",
       "      <th>Item Name</th>\n",
       "      <th>Price</th>\n",
       "      <th></th>\n",
       "      <th></th>\n",
       "    </tr>\n",
       "  </thead>\n",
       "  <tbody>\n",
       "    <tr>\n",
       "      <td>178</td>\n",
       "      <td>Oathbreaker, Last Hope of the Breaking Storm</td>\n",
       "      <td>4.23</td>\n",
       "      <td>12</td>\n",
       "      <td>$50.76</td>\n",
       "    </tr>\n",
       "    <tr>\n",
       "      <td>82</td>\n",
       "      <td>Nirvana</td>\n",
       "      <td>4.90</td>\n",
       "      <td>9</td>\n",
       "      <td>$44.10</td>\n",
       "    </tr>\n",
       "    <tr>\n",
       "      <td>145</td>\n",
       "      <td>Fiery Glass Crusader</td>\n",
       "      <td>4.58</td>\n",
       "      <td>9</td>\n",
       "      <td>$41.22</td>\n",
       "    </tr>\n",
       "    <tr>\n",
       "      <td>92</td>\n",
       "      <td>Final Critic</td>\n",
       "      <td>4.88</td>\n",
       "      <td>8</td>\n",
       "      <td>$39.04</td>\n",
       "    </tr>\n",
       "    <tr>\n",
       "      <td>103</td>\n",
       "      <td>Singed Scalpel</td>\n",
       "      <td>4.35</td>\n",
       "      <td>8</td>\n",
       "      <td>$34.80</td>\n",
       "    </tr>\n",
       "  </tbody>\n",
       "</table>\n",
       "</div>"
      ],
      "text/plain": [
       "                                                            Puchase Count  \\\n",
       "Item ID Item Name                                    Price                  \n",
       "178     Oathbreaker, Last Hope of the Breaking Storm 4.23              12   \n",
       "82      Nirvana                                      4.90               9   \n",
       "145     Fiery Glass Crusader                         4.58               9   \n",
       "92      Final Critic                                 4.88               8   \n",
       "103     Singed Scalpel                               4.35               8   \n",
       "\n",
       "                                                           Total Purchase Value  \n",
       "Item ID Item Name                                    Price                       \n",
       "178     Oathbreaker, Last Hope of the Breaking Storm 4.23                $50.76  \n",
       "82      Nirvana                                      4.90                $44.10  \n",
       "145     Fiery Glass Crusader                         4.58                $41.22  \n",
       "92      Final Critic                                 4.88                $39.04  \n",
       "103     Singed Scalpel                               4.35                $34.80  "
      ]
     },
     "execution_count": 19,
     "metadata": {},
     "output_type": "execute_result"
    }
   ],
   "source": [
    "most_profitable=purchase_data[[\"Item ID\", 'Item Name','Price','Purchase ID']]\n",
    "\n",
    "grouping = most_profitable.groupby(['Item ID','Item Name','Price'])\n",
    "\n",
    "#Calculate the 'Purchase Count'\n",
    "purchase_count = grouping['Purchase ID'].count()\n",
    "\n",
    "#total purchase value\n",
    "totalpurchase_value=grouping['Price'].sum()\n",
    "\n",
    "#generate a summary table\n",
    "mp_st= pd.DataFrame({'Puchase Count':purchase_count,\n",
    "                    'Total Purchase Value':totalpurchase_value})\n",
    "\n",
    "#sorting by popularity (purchase count)\n",
    "mp_st=mp_st.sort_values(by=['Total Purchase Value'], ascending=False)\n",
    "\n",
    "#Format the summary table\n",
    "mp_st['Total Purchase Value'] = mp_st['Total Purchase Value'].map(\"${:.2f}\".format)\n",
    "mp_st.head(5)"
   ]
  },
  {
   "cell_type": "code",
   "execution_count": null,
   "metadata": {},
   "outputs": [],
   "source": []
  }
 ],
 "metadata": {
  "anaconda-cloud": {},
  "kernel_info": {
   "name": "python3"
  },
  "kernelspec": {
   "display_name": "Python 3",
   "language": "python",
   "name": "python3"
  },
  "language_info": {
   "codemirror_mode": {
    "name": "ipython",
    "version": 3
   },
   "file_extension": ".py",
   "mimetype": "text/x-python",
   "name": "python",
   "nbconvert_exporter": "python",
   "pygments_lexer": "ipython3",
   "version": "3.7.4"
  },
  "latex_envs": {
   "LaTeX_envs_menu_present": true,
   "autoclose": false,
   "autocomplete": true,
   "bibliofile": "biblio.bib",
   "cite_by": "apalike",
   "current_citInitial": 1,
   "eqLabelWithNumbers": true,
   "eqNumInitial": 1,
   "hotkeys": {
    "equation": "Ctrl-E",
    "itemize": "Ctrl-I"
   },
   "labels_anchors": false,
   "latex_user_defs": false,
   "report_style_numbering": false,
   "user_envs_cfg": false
  },
  "nteract": {
   "version": "0.2.0"
  }
 },
 "nbformat": 4,
 "nbformat_minor": 2
}
